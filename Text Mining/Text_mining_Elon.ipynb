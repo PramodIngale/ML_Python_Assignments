{
 "cells": [
  {
   "cell_type": "code",
   "execution_count": 1,
   "metadata": {
    "id": "IDQPbQRf--l7"
   },
   "outputs": [],
   "source": [
    "#import libraries\n",
    "import pandas as pd\n",
    "import numpy as np\n",
    "import string"
   ]
  },
  {
   "cell_type": "code",
   "execution_count": 2,
   "metadata": {
    "colab": {
     "base_uri": "https://localhost:8080/",
     "height": 204
    },
    "id": "VRFQ-7pm_RlY",
    "outputId": "b24873d9-43f5-4a15-98b1-906ccd0981c2"
   },
   "outputs": [
    {
     "data": {
      "text/html": [
       "<div>\n",
       "<style scoped>\n",
       "    .dataframe tbody tr th:only-of-type {\n",
       "        vertical-align: middle;\n",
       "    }\n",
       "\n",
       "    .dataframe tbody tr th {\n",
       "        vertical-align: top;\n",
       "    }\n",
       "\n",
       "    .dataframe thead th {\n",
       "        text-align: right;\n",
       "    }\n",
       "</style>\n",
       "<table border=\"1\" class=\"dataframe\">\n",
       "  <thead>\n",
       "    <tr style=\"text-align: right;\">\n",
       "      <th></th>\n",
       "      <th>Text</th>\n",
       "    </tr>\n",
       "  </thead>\n",
       "  <tbody>\n",
       "    <tr>\n",
       "      <th>1</th>\n",
       "      <td>@kunalb11 Im an alien</td>\n",
       "    </tr>\n",
       "    <tr>\n",
       "      <th>2</th>\n",
       "      <td>@ID_AA_Carmack Ray tracing on Cyberpunk with H...</td>\n",
       "    </tr>\n",
       "    <tr>\n",
       "      <th>3</th>\n",
       "      <td>@joerogan @Spotify Great interview!</td>\n",
       "    </tr>\n",
       "    <tr>\n",
       "      <th>4</th>\n",
       "      <td>@gtera27 Doge is underestimated</td>\n",
       "    </tr>\n",
       "    <tr>\n",
       "      <th>5</th>\n",
       "      <td>@teslacn Congratulations Tesla China for amazi...</td>\n",
       "    </tr>\n",
       "  </tbody>\n",
       "</table>\n",
       "</div>"
      ],
      "text/plain": [
       "                                                Text\n",
       "1                             @kunalb11 Im an alien\n",
       "2  @ID_AA_Carmack Ray tracing on Cyberpunk with H...\n",
       "3                @joerogan @Spotify Great interview!\n",
       "4                    @gtera27 Doge is underestimated\n",
       "5  @teslacn Congratulations Tesla China for amazi..."
      ]
     },
     "execution_count": 2,
     "metadata": {},
     "output_type": "execute_result"
    }
   ],
   "source": [
    "#import dataset\n",
    "tweets = pd.read_csv(\"Elon_musk.csv\", encoding=\"latin1\", index_col=0, error_bad_lines=False)\n",
    "tweets.head()"
   ]
  },
  {
   "cell_type": "markdown",
   "metadata": {
    "id": "KL-Ea7MqBFCg"
   },
   "source": [
    "## **Text Preprocessing** "
   ]
  },
  {
   "cell_type": "code",
   "execution_count": 3,
   "metadata": {
    "colab": {
     "base_uri": "https://localhost:8080/"
    },
    "id": "iwpdwdFxBLSO",
    "outputId": "a91850cd-2c08-403a-abdf-75829d78f78d"
   },
   "outputs": [
    {
     "data": {
      "text/plain": [
       "['kunalb11 i\\x92m an alien',\n",
       " 'idaacarmack ray tracing on cyberpunk with hdr is nextlevel have you tried it',\n",
       " 'joerogan spotify great interview',\n",
       " 'gtera27 doge is underestimated',\n",
       " 'teslacn congratulations tesla china for amazing execution last year now on to the next for even more']"
      ]
     },
     "execution_count": 3,
     "metadata": {},
     "output_type": "execute_result"
    }
   ],
   "source": [
    "book = [x.strip() for x in tweets.Text] #remove both the leading and the trailing characters\n",
    "book = [x.translate(x.maketrans(\"\",\"\",string.punctuation)) for x in book] # punctuation removal\n",
    "book = [x.lower() for x in book] #convert all the text to lower case\n",
    "book[0:5]"
   ]
  },
  {
   "cell_type": "code",
   "execution_count": 4,
   "metadata": {
    "colab": {
     "base_uri": "https://localhost:8080/",
     "height": 204
    },
    "id": "GXcI56wPiFt1",
    "outputId": "5a4ef2ab-0ddd-4d11-a785-f1adc8556217"
   },
   "outputs": [
    {
     "data": {
      "text/html": [
       "<div>\n",
       "<style scoped>\n",
       "    .dataframe tbody tr th:only-of-type {\n",
       "        vertical-align: middle;\n",
       "    }\n",
       "\n",
       "    .dataframe tbody tr th {\n",
       "        vertical-align: top;\n",
       "    }\n",
       "\n",
       "    .dataframe thead th {\n",
       "        text-align: right;\n",
       "    }\n",
       "</style>\n",
       "<table border=\"1\" class=\"dataframe\">\n",
       "  <thead>\n",
       "    <tr style=\"text-align: right;\">\n",
       "      <th></th>\n",
       "      <th>tweets</th>\n",
       "    </tr>\n",
       "  </thead>\n",
       "  <tbody>\n",
       "    <tr>\n",
       "      <th>0</th>\n",
       "      <td>kunalb11 im an alien</td>\n",
       "    </tr>\n",
       "    <tr>\n",
       "      <th>1</th>\n",
       "      <td>idaacarmack ray tracing on cyberpunk with hdr ...</td>\n",
       "    </tr>\n",
       "    <tr>\n",
       "      <th>2</th>\n",
       "      <td>joerogan spotify great interview</td>\n",
       "    </tr>\n",
       "    <tr>\n",
       "      <th>3</th>\n",
       "      <td>gtera27 doge is underestimated</td>\n",
       "    </tr>\n",
       "    <tr>\n",
       "      <th>4</th>\n",
       "      <td>teslacn congratulations tesla china for amazin...</td>\n",
       "    </tr>\n",
       "  </tbody>\n",
       "</table>\n",
       "</div>"
      ],
      "text/plain": [
       "                                              tweets\n",
       "0                              kunalb11 im an alien\n",
       "1  idaacarmack ray tracing on cyberpunk with hdr ...\n",
       "2                   joerogan spotify great interview\n",
       "3                     gtera27 doge is underestimated\n",
       "4  teslacn congratulations tesla china for amazin..."
      ]
     },
     "execution_count": 4,
     "metadata": {},
     "output_type": "execute_result"
    }
   ],
   "source": [
    "#Update processed data into the dataframe\n",
    "tweet_df = pd.DataFrame(book,columns=[\"tweets\"])\n",
    "tweet_df.head()"
   ]
  },
  {
   "cell_type": "code",
   "execution_count": 5,
   "metadata": {
    "id": "Rg-hs0m3N3UZ"
   },
   "outputs": [],
   "source": [
    "#import stopwords, postive lexicon and negative lexicon\n",
    "stop_words = pd.read_csv(\"stop.txt\", names=[\"words\"])\n",
    "stop_words = list(stop_words.words)\n",
    "pos_lexicon = pd.read_csv(\"positive-words.txt\", names=[\"p_lexicon\"])\n",
    "pos_lexicon = list(pos_lexicon.p_lexicon)\n",
    "neg_lexicon = pd.read_csv(\"negative-words.txt\", names=[\"n_lexicon\"], encoding=\"latin1\")\n",
    "neg_lexicon = list(neg_lexicon.n_lexicon)"
   ]
  },
  {
   "cell_type": "markdown",
   "metadata": {
    "id": "ksknXHv5urFj"
   },
   "source": [
    "### Function to calculate sentiment"
   ]
  },
  {
   "cell_type": "code",
   "execution_count": 7,
   "metadata": {
    "colab": {
     "base_uri": "https://localhost:8080/"
    },
    "id": "zAQBtDRUSxmD",
    "outputId": "a2949072-ace1-47ad-eb5f-f06383e0f4c5"
   },
   "outputs": [
    {
     "name": "stderr",
     "output_type": "stream",
     "text": [
      "[nltk_data] Downloading package punkt to\n",
      "[nltk_data]     C:\\Users\\praing57504\\AppData\\Roaming\\nltk_data...\n",
      "[nltk_data]   Package punkt is already up-to-date!\n",
      "[nltk_data] Downloading package wordnet to\n",
      "[nltk_data]     C:\\Users\\praing57504\\AppData\\Roaming\\nltk_data...\n",
      "[nltk_data]   Package wordnet is already up-to-date!\n"
     ]
    }
   ],
   "source": [
    "#Functiion to calculate the score for whole sentence\n",
    "# nlp = spacy.load(\"en_core_web_sm\")\n",
    "\n",
    "#Tokenization\n",
    "from nltk.tokenize import word_tokenize\n",
    "import nltk\n",
    "nltk.download(\"punkt\")\n",
    "\n",
    "#Lemmatization\n",
    "from nltk.stem import WordNetLemmatizer\n",
    "nltk.download('wordnet')\n",
    "wordlem = WordNetLemmatizer()\n",
    "\n",
    "#Function\n",
    "def calculate_sentiment(text):\n",
    "    sent_score = 0\n",
    "    if text:\n",
    "        tokenized = word_tokenize(text)\n",
    "        lemmetized = [wordlem.lemmatize(word,pos=\"v\") for word in tokenized]\n",
    "        no_stopword_sent = [word for word in lemmetized if not word in stop_words]\n",
    "        for word in no_stopword_sent:\n",
    "            if word in pos_lexicon:\n",
    "                sent_score +=1\n",
    "            if word in  neg_lexicon:\n",
    "                sent_score -=1 \n",
    "    return sent_score"
   ]
  },
  {
   "cell_type": "code",
   "execution_count": 8,
   "metadata": {
    "colab": {
     "base_uri": "https://localhost:8080/",
     "height": 204
    },
    "id": "i85eEzfSVY8z",
    "outputId": "407c2023-be71-42d9-cc96-6ede6d4707bd"
   },
   "outputs": [
    {
     "data": {
      "text/html": [
       "<div>\n",
       "<style scoped>\n",
       "    .dataframe tbody tr th:only-of-type {\n",
       "        vertical-align: middle;\n",
       "    }\n",
       "\n",
       "    .dataframe tbody tr th {\n",
       "        vertical-align: top;\n",
       "    }\n",
       "\n",
       "    .dataframe thead th {\n",
       "        text-align: right;\n",
       "    }\n",
       "</style>\n",
       "<table border=\"1\" class=\"dataframe\">\n",
       "  <thead>\n",
       "    <tr style=\"text-align: right;\">\n",
       "      <th></th>\n",
       "      <th>Text</th>\n",
       "      <th>Score</th>\n",
       "    </tr>\n",
       "  </thead>\n",
       "  <tbody>\n",
       "    <tr>\n",
       "      <th>1</th>\n",
       "      <td>@kunalb11 Im an alien</td>\n",
       "      <td>0.0</td>\n",
       "    </tr>\n",
       "    <tr>\n",
       "      <th>2</th>\n",
       "      <td>@ID_AA_Carmack Ray tracing on Cyberpunk with H...</td>\n",
       "      <td>1.0</td>\n",
       "    </tr>\n",
       "    <tr>\n",
       "      <th>3</th>\n",
       "      <td>@joerogan @Spotify Great interview!</td>\n",
       "      <td>-1.0</td>\n",
       "    </tr>\n",
       "    <tr>\n",
       "      <th>4</th>\n",
       "      <td>@gtera27 Doge is underestimated</td>\n",
       "      <td>2.0</td>\n",
       "    </tr>\n",
       "    <tr>\n",
       "      <th>5</th>\n",
       "      <td>@teslacn Congratulations Tesla China for amazi...</td>\n",
       "      <td>1.0</td>\n",
       "    </tr>\n",
       "  </tbody>\n",
       "</table>\n",
       "</div>"
      ],
      "text/plain": [
       "                                                Text  Score\n",
       "1                             @kunalb11 Im an alien    0.0\n",
       "2  @ID_AA_Carmack Ray tracing on Cyberpunk with H...    1.0\n",
       "3                @joerogan @Spotify Great interview!   -1.0\n",
       "4                    @gtera27 Doge is underestimated    2.0\n",
       "5  @teslacn Congratulations Tesla China for amazi...    1.0"
      ]
     },
     "execution_count": 8,
     "metadata": {},
     "output_type": "execute_result"
    }
   ],
   "source": [
    "#Adding sentiment score in the main dataframe tweets\n",
    "tweets[\"Score\"] = tweet_df[\"tweets\"].apply(calculate_sentiment)\n",
    "tweets.head()"
   ]
  },
  {
   "cell_type": "code",
   "execution_count": 9,
   "metadata": {
    "id": "D0i1CqzPgYFT"
   },
   "outputs": [],
   "source": [
    "#Function to classify the tweet based on score\n",
    "def classification(score):\n",
    "  if score == 0:\n",
    "    t_class = \"Neutral\"\n",
    "  elif score > 0:\n",
    "    t_class = \"Positive\"\n",
    "  else:\n",
    "    t_class = \"Negative\"\n",
    "  return t_class"
   ]
  },
  {
   "cell_type": "code",
   "execution_count": 10,
   "metadata": {
    "id": "Mq3VRZBfzYcr"
   },
   "outputs": [],
   "source": [
    "#Adding column for tweet classification\n",
    "\n",
    "tweets[\"Tweet_Classification\"] = tweets[\"Score\"].apply(classification)"
   ]
  },
  {
   "cell_type": "code",
   "execution_count": 11,
   "metadata": {
    "colab": {
     "base_uri": "https://localhost:8080/",
     "height": 204
    },
    "id": "mm2uo3Hazlrj",
    "outputId": "203009e3-7d8f-49d8-aff7-02dfbd6533a4"
   },
   "outputs": [
    {
     "data": {
      "text/html": [
       "<div>\n",
       "<style scoped>\n",
       "    .dataframe tbody tr th:only-of-type {\n",
       "        vertical-align: middle;\n",
       "    }\n",
       "\n",
       "    .dataframe tbody tr th {\n",
       "        vertical-align: top;\n",
       "    }\n",
       "\n",
       "    .dataframe thead th {\n",
       "        text-align: right;\n",
       "    }\n",
       "</style>\n",
       "<table border=\"1\" class=\"dataframe\">\n",
       "  <thead>\n",
       "    <tr style=\"text-align: right;\">\n",
       "      <th></th>\n",
       "      <th>Text</th>\n",
       "      <th>Score</th>\n",
       "      <th>Tweet_Classification</th>\n",
       "    </tr>\n",
       "  </thead>\n",
       "  <tbody>\n",
       "    <tr>\n",
       "      <th>1</th>\n",
       "      <td>@kunalb11 Im an alien</td>\n",
       "      <td>0.0</td>\n",
       "      <td>Neutral</td>\n",
       "    </tr>\n",
       "    <tr>\n",
       "      <th>2</th>\n",
       "      <td>@ID_AA_Carmack Ray tracing on Cyberpunk with H...</td>\n",
       "      <td>1.0</td>\n",
       "      <td>Positive</td>\n",
       "    </tr>\n",
       "    <tr>\n",
       "      <th>3</th>\n",
       "      <td>@joerogan @Spotify Great interview!</td>\n",
       "      <td>-1.0</td>\n",
       "      <td>Negative</td>\n",
       "    </tr>\n",
       "    <tr>\n",
       "      <th>4</th>\n",
       "      <td>@gtera27 Doge is underestimated</td>\n",
       "      <td>2.0</td>\n",
       "      <td>Positive</td>\n",
       "    </tr>\n",
       "    <tr>\n",
       "      <th>5</th>\n",
       "      <td>@teslacn Congratulations Tesla China for amazi...</td>\n",
       "      <td>1.0</td>\n",
       "      <td>Positive</td>\n",
       "    </tr>\n",
       "  </tbody>\n",
       "</table>\n",
       "</div>"
      ],
      "text/plain": [
       "                                                Text  Score  \\\n",
       "1                             @kunalb11 Im an alien    0.0   \n",
       "2  @ID_AA_Carmack Ray tracing on Cyberpunk with H...    1.0   \n",
       "3                @joerogan @Spotify Great interview!   -1.0   \n",
       "4                    @gtera27 Doge is underestimated    2.0   \n",
       "5  @teslacn Congratulations Tesla China for amazi...    1.0   \n",
       "\n",
       "  Tweet_Classification  \n",
       "1              Neutral  \n",
       "2             Positive  \n",
       "3             Negative  \n",
       "4             Positive  \n",
       "5             Positive  "
      ]
     },
     "execution_count": 11,
     "metadata": {},
     "output_type": "execute_result"
    }
   ],
   "source": [
    "tweets.head()"
   ]
  }
 ],
 "metadata": {
  "colab": {
   "collapsed_sections": [],
   "name": "Text_mining_Elon.ipynb",
   "provenance": []
  },
  "kernelspec": {
   "display_name": "Python 3",
   "language": "python",
   "name": "python3"
  },
  "language_info": {
   "codemirror_mode": {
    "name": "ipython",
    "version": 3
   },
   "file_extension": ".py",
   "mimetype": "text/x-python",
   "name": "python",
   "nbconvert_exporter": "python",
   "pygments_lexer": "ipython3",
   "version": "3.8.5"
  }
 },
 "nbformat": 4,
 "nbformat_minor": 1
}
