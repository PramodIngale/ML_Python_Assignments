{
 "cells": [
  {
   "cell_type": "code",
   "execution_count": 1,
   "metadata": {},
   "outputs": [],
   "source": [
    "#import libraries\n",
    "import pandas as pd\n",
    "import numpy as np\n",
    "import string"
   ]
  },
  {
   "cell_type": "code",
   "execution_count": 2,
   "metadata": {},
   "outputs": [
    {
     "data": {
      "text/html": [
       "<div>\n",
       "<style scoped>\n",
       "    .dataframe tbody tr th:only-of-type {\n",
       "        vertical-align: middle;\n",
       "    }\n",
       "\n",
       "    .dataframe tbody tr th {\n",
       "        vertical-align: top;\n",
       "    }\n",
       "\n",
       "    .dataframe thead th {\n",
       "        text-align: right;\n",
       "    }\n",
       "</style>\n",
       "<table border=\"1\" class=\"dataframe\">\n",
       "  <thead>\n",
       "    <tr style=\"text-align: right;\">\n",
       "      <th></th>\n",
       "      <th>Title</th>\n",
       "      <th>Review</th>\n",
       "    </tr>\n",
       "  </thead>\n",
       "  <tbody>\n",
       "    <tr>\n",
       "      <th>0</th>\n",
       "      <td>Good</td>\n",
       "      <td>Super   fast rack as usual quality &amp; amazon di...</td>\n",
       "    </tr>\n",
       "    <tr>\n",
       "      <th>1</th>\n",
       "      <td>Very good product</td>\n",
       "      <td>The product is very good. Thanks to Amazon for...</td>\n",
       "    </tr>\n",
       "    <tr>\n",
       "      <th>2</th>\n",
       "      <td>Loved it.</td>\n",
       "      <td>Sooo cute...... Loved it.... Thanks AmazonPerf...</td>\n",
       "    </tr>\n",
       "    <tr>\n",
       "      <th>3</th>\n",
       "      <td>Elegqnt and classy.</td>\n",
       "      <td>Very elegant and beautiful watch. Looks quite ...</td>\n",
       "    </tr>\n",
       "    <tr>\n",
       "      <th>4</th>\n",
       "      <td>Good watch</td>\n",
       "      <td>I got the exact one what was in the image I ha...</td>\n",
       "    </tr>\n",
       "  </tbody>\n",
       "</table>\n",
       "</div>"
      ],
      "text/plain": [
       "                 Title                                             Review\n",
       "0                 Good  Super   fast rack as usual quality & amazon di...\n",
       "1    Very good product  The product is very good. Thanks to Amazon for...\n",
       "2            Loved it.  Sooo cute...... Loved it.... Thanks AmazonPerf...\n",
       "3  Elegqnt and classy.  Very elegant and beautiful watch. Looks quite ...\n",
       "4           Good watch  I got the exact one what was in the image I ha..."
      ]
     },
     "execution_count": 2,
     "metadata": {},
     "output_type": "execute_result"
    }
   ],
   "source": [
    "#Import the review dataset downloaded from amazon\n",
    "\n",
    "watch_review = pd.read_csv(\"fastrac_watch.csv\", error_bad_lines=False, usecols=[\"Title\",\"Review\"])\n",
    "watch_review.head()"
   ]
  },
  {
   "cell_type": "code",
   "execution_count": 3,
   "metadata": {},
   "outputs": [
    {
     "data": {
      "text/html": [
       "<div>\n",
       "<style scoped>\n",
       "    .dataframe tbody tr th:only-of-type {\n",
       "        vertical-align: middle;\n",
       "    }\n",
       "\n",
       "    .dataframe tbody tr th {\n",
       "        vertical-align: top;\n",
       "    }\n",
       "\n",
       "    .dataframe thead th {\n",
       "        text-align: right;\n",
       "    }\n",
       "</style>\n",
       "<table border=\"1\" class=\"dataframe\">\n",
       "  <thead>\n",
       "    <tr style=\"text-align: right;\">\n",
       "      <th></th>\n",
       "      <th>English (en)</th>\n",
       "      <th>Anger</th>\n",
       "      <th>Anticipation</th>\n",
       "      <th>Disgust</th>\n",
       "      <th>Fear</th>\n",
       "      <th>Joy</th>\n",
       "      <th>Sadness</th>\n",
       "      <th>Surprise</th>\n",
       "      <th>Trust</th>\n",
       "    </tr>\n",
       "  </thead>\n",
       "  <tbody>\n",
       "    <tr>\n",
       "      <th>0</th>\n",
       "      <td>aback</td>\n",
       "      <td>0</td>\n",
       "      <td>0</td>\n",
       "      <td>0</td>\n",
       "      <td>0</td>\n",
       "      <td>0</td>\n",
       "      <td>0</td>\n",
       "      <td>0</td>\n",
       "      <td>0</td>\n",
       "    </tr>\n",
       "    <tr>\n",
       "      <th>1</th>\n",
       "      <td>abacus</td>\n",
       "      <td>0</td>\n",
       "      <td>0</td>\n",
       "      <td>0</td>\n",
       "      <td>0</td>\n",
       "      <td>0</td>\n",
       "      <td>0</td>\n",
       "      <td>0</td>\n",
       "      <td>1</td>\n",
       "    </tr>\n",
       "    <tr>\n",
       "      <th>2</th>\n",
       "      <td>abandon</td>\n",
       "      <td>0</td>\n",
       "      <td>0</td>\n",
       "      <td>0</td>\n",
       "      <td>1</td>\n",
       "      <td>0</td>\n",
       "      <td>1</td>\n",
       "      <td>0</td>\n",
       "      <td>0</td>\n",
       "    </tr>\n",
       "    <tr>\n",
       "      <th>3</th>\n",
       "      <td>abandoned</td>\n",
       "      <td>1</td>\n",
       "      <td>0</td>\n",
       "      <td>0</td>\n",
       "      <td>1</td>\n",
       "      <td>0</td>\n",
       "      <td>1</td>\n",
       "      <td>0</td>\n",
       "      <td>0</td>\n",
       "    </tr>\n",
       "    <tr>\n",
       "      <th>4</th>\n",
       "      <td>abandonment</td>\n",
       "      <td>1</td>\n",
       "      <td>0</td>\n",
       "      <td>0</td>\n",
       "      <td>1</td>\n",
       "      <td>0</td>\n",
       "      <td>1</td>\n",
       "      <td>1</td>\n",
       "      <td>0</td>\n",
       "    </tr>\n",
       "  </tbody>\n",
       "</table>\n",
       "</div>"
      ],
      "text/plain": [
       "  English (en)  Anger  Anticipation  Disgust  Fear  Joy  Sadness  Surprise  \\\n",
       "0        aback      0             0        0     0    0        0         0   \n",
       "1       abacus      0             0        0     0    0        0         0   \n",
       "2      abandon      0             0        0     1    0        1         0   \n",
       "3    abandoned      1             0        0     1    0        1         0   \n",
       "4  abandonment      1             0        0     1    0        1         1   \n",
       "\n",
       "   Trust  \n",
       "0      0  \n",
       "1      1  \n",
       "2      0  \n",
       "3      0  \n",
       "4      0  "
      ]
     },
     "execution_count": 3,
     "metadata": {},
     "output_type": "execute_result"
    }
   ],
   "source": [
    "#import Lexicon\n",
    "NRC_lexicon = pd.read_excel(\"NRC-Emotion-Lexicon.xlsx\", usecols=[\"English (en)\",\"Anger\",\n",
    "                                                                 \"Anticipation\", \"Disgust\",\"Fear\", \"Joy\", \"Sadness\",\n",
    "                                                                 \"Surprise\", \"Trust\"])\n",
    "NRC_lexicon.head()"
   ]
  },
  {
   "cell_type": "markdown",
   "metadata": {},
   "source": [
    "### Text processing"
   ]
  },
  {
   "cell_type": "code",
   "execution_count": 4,
   "metadata": {},
   "outputs": [
    {
     "data": {
      "text/plain": [
       "['super   fast rack as usual quality  amazon discount attracts buying online ',\n",
       " 'the product is very good thanks to amazon for delivering it within 1day nicely packed only d belt was too large for my wrist had to cut it to adjust otherwise the watch is good am too satisfied with amazon  s servicerecommended for all',\n",
       " 'sooo cute loved it thanks amazonperfecttttt',\n",
       " 'very elegant and beautiful watch looks quite classy in hand beautifully designedworth for rs 1500',\n",
       " 'i got the exact one what was in the image i had showed it s not light weight at all  a bit of heavy it s a good product']"
      ]
     },
     "execution_count": 4,
     "metadata": {},
     "output_type": "execute_result"
    }
   ],
   "source": [
    "#Text Processing\n",
    "book = [x.strip() for x in watch_review.Review] #remove both the leading and the trailing characters\n",
    "book = [x.translate(x.maketrans(\"\",\"\",string.punctuation)) for x in book] # punctuation removal\n",
    "book = [x.lower() for x in book] #convert all the text to lower case\n",
    "book[0:5]"
   ]
  },
  {
   "cell_type": "code",
   "execution_count": 5,
   "metadata": {},
   "outputs": [
    {
     "data": {
      "text/html": [
       "<div>\n",
       "<style scoped>\n",
       "    .dataframe tbody tr th:only-of-type {\n",
       "        vertical-align: middle;\n",
       "    }\n",
       "\n",
       "    .dataframe tbody tr th {\n",
       "        vertical-align: top;\n",
       "    }\n",
       "\n",
       "    .dataframe thead th {\n",
       "        text-align: right;\n",
       "    }\n",
       "</style>\n",
       "<table border=\"1\" class=\"dataframe\">\n",
       "  <thead>\n",
       "    <tr style=\"text-align: right;\">\n",
       "      <th></th>\n",
       "      <th>reviews</th>\n",
       "    </tr>\n",
       "  </thead>\n",
       "  <tbody>\n",
       "    <tr>\n",
       "      <th>0</th>\n",
       "      <td>super   fast rack as usual quality  amazon dis...</td>\n",
       "    </tr>\n",
       "    <tr>\n",
       "      <th>1</th>\n",
       "      <td>the product is very good thanks to amazon for ...</td>\n",
       "    </tr>\n",
       "    <tr>\n",
       "      <th>2</th>\n",
       "      <td>sooo cute loved it thanks amazonperfecttttt</td>\n",
       "    </tr>\n",
       "    <tr>\n",
       "      <th>3</th>\n",
       "      <td>very elegant and beautiful watch looks quite c...</td>\n",
       "    </tr>\n",
       "    <tr>\n",
       "      <th>4</th>\n",
       "      <td>i got the exact one what was in the image i ha...</td>\n",
       "    </tr>\n",
       "  </tbody>\n",
       "</table>\n",
       "</div>"
      ],
      "text/plain": [
       "                                             reviews\n",
       "0  super   fast rack as usual quality  amazon dis...\n",
       "1  the product is very good thanks to amazon for ...\n",
       "2        sooo cute loved it thanks amazonperfecttttt\n",
       "3  very elegant and beautiful watch looks quite c...\n",
       "4  i got the exact one what was in the image i ha..."
      ]
     },
     "execution_count": 5,
     "metadata": {},
     "output_type": "execute_result"
    }
   ],
   "source": [
    "#Update processed data into the dataframe\n",
    "reviews_df = pd.DataFrame(book,columns=[\"reviews\"])\n",
    "reviews_df.head()"
   ]
  },
  {
   "cell_type": "code",
   "execution_count": 6,
   "metadata": {},
   "outputs": [],
   "source": [
    "#import stopwords\n",
    "stop_words = pd.read_csv(\"stop.txt\", names=[\"words\"])\n",
    "stop_words = list(stop_words.words)"
   ]
  },
  {
   "cell_type": "code",
   "execution_count": 7,
   "metadata": {},
   "outputs": [
    {
     "name": "stderr",
     "output_type": "stream",
     "text": [
      "[nltk_data] Downloading package punkt to\n",
      "[nltk_data]     C:\\Users\\praing57504\\AppData\\Roaming\\nltk_data...\n",
      "[nltk_data]   Package punkt is already up-to-date!\n",
      "[nltk_data] Downloading package wordnet to\n",
      "[nltk_data]     C:\\Users\\praing57504\\AppData\\Roaming\\nltk_data...\n",
      "[nltk_data]   Package wordnet is already up-to-date!\n"
     ]
    }
   ],
   "source": [
    "#libraries\n",
    "#Tokenization\n",
    "from nltk.tokenize import word_tokenize\n",
    "import nltk\n",
    "nltk.download(\"punkt\")\n",
    "\n",
    "#Lemmatization\n",
    "from nltk.stem import WordNetLemmatizer\n",
    "nltk.download('wordnet')\n",
    "wordlem = WordNetLemmatizer()"
   ]
  },
  {
   "cell_type": "code",
   "execution_count": 8,
   "metadata": {},
   "outputs": [],
   "source": [
    "#Functiion to find the emotion of Review\n",
    "\n",
    "#Function\n",
    "def calculate_emotion(text):\n",
    "    emotion = \"\"\n",
    "    \n",
    "    Anger=Anticipation=Disgust=Fear=Joy=Sadness=Surprise=Trust=0 #assigning all score to zero\n",
    "    if text:\n",
    "        tokenized = word_tokenize(text) #tokenizarion\n",
    "        lemmetized = [wordlem.lemmatize(word,pos=\"v\") for word in tokenized] #lemmatization\n",
    "        no_stopword_sent = [word for word in lemmetized if not word in stop_words] #stop word removal\n",
    "        for word in no_stopword_sent:\n",
    "            if word in NRC_lexicon[\"English (en)\"].values:\n",
    "                data = NRC_lexicon[NRC_lexicon[\"English (en)\"] == word]\n",
    "                #Scores\n",
    "                Anger += data.iloc[0][\"Anger\"]\n",
    "                Anticipation += data.iloc[0][\"Anticipation\"]\n",
    "                Disgust += data.iloc[0][\"Disgust\"]\n",
    "                Fear += data.iloc[0][\"Fear\"]\n",
    "                Sadness += data.iloc[0][\"Sadness\"]\n",
    "                Joy += data.iloc[0][\"Joy\"]\n",
    "                Trust += data.iloc[0][\"Trust\"]\n",
    "                Surprise += data.iloc[0][\"Surprise\"]\n",
    "                \n",
    "    dict_score = {\"No_emotion\":0,\"Anger\":Anger, \"Anticipation\":Anticipation, \"Disgust\":Disgust, \"Fear\":Fear,\n",
    "                  \"Sadness\":Sadness, \"Joy\":Joy, \"Surprise\":Surprise, \"Trust\":Trust}\n",
    "    \n",
    "    max_value = max(dict_score.values())\n",
    "    listOfKeys = list()\n",
    "    for key, value in dict_score.items():\n",
    "        if max_value == value:\n",
    "            listOfKeys.append(key)\n",
    "    \n",
    "    return listOfKeys"
   ]
  },
  {
   "cell_type": "code",
   "execution_count": 9,
   "metadata": {},
   "outputs": [],
   "source": [
    "#Adding emotion column to df, based on the statement\n",
    "\n",
    "watch_review[\"Emotion\"] = reviews_df[\"reviews\"].apply(calculate_emotion)"
   ]
  },
  {
   "cell_type": "code",
   "execution_count": 10,
   "metadata": {},
   "outputs": [
    {
     "data": {
      "text/html": [
       "<div>\n",
       "<style scoped>\n",
       "    .dataframe tbody tr th:only-of-type {\n",
       "        vertical-align: middle;\n",
       "    }\n",
       "\n",
       "    .dataframe tbody tr th {\n",
       "        vertical-align: top;\n",
       "    }\n",
       "\n",
       "    .dataframe thead th {\n",
       "        text-align: right;\n",
       "    }\n",
       "</style>\n",
       "<table border=\"1\" class=\"dataframe\">\n",
       "  <thead>\n",
       "    <tr style=\"text-align: right;\">\n",
       "      <th></th>\n",
       "      <th>Title</th>\n",
       "      <th>Review</th>\n",
       "      <th>Emotion</th>\n",
       "    </tr>\n",
       "  </thead>\n",
       "  <tbody>\n",
       "    <tr>\n",
       "      <th>0</th>\n",
       "      <td>Good</td>\n",
       "      <td>Super   fast rack as usual quality &amp; amazon di...</td>\n",
       "      <td>[Sadness, Trust]</td>\n",
       "    </tr>\n",
       "    <tr>\n",
       "      <th>1</th>\n",
       "      <td>Very good product</td>\n",
       "      <td>The product is very good. Thanks to Amazon for...</td>\n",
       "      <td>[Anticipation]</td>\n",
       "    </tr>\n",
       "    <tr>\n",
       "      <th>2</th>\n",
       "      <td>Loved it.</td>\n",
       "      <td>Sooo cute...... Loved it.... Thanks AmazonPerf...</td>\n",
       "      <td>[Joy]</td>\n",
       "    </tr>\n",
       "    <tr>\n",
       "      <th>3</th>\n",
       "      <td>Elegqnt and classy.</td>\n",
       "      <td>Very elegant and beautiful watch. Looks quite ...</td>\n",
       "      <td>[Joy]</td>\n",
       "    </tr>\n",
       "    <tr>\n",
       "      <th>4</th>\n",
       "      <td>Good watch</td>\n",
       "      <td>I got the exact one what was in the image I ha...</td>\n",
       "      <td>[Trust]</td>\n",
       "    </tr>\n",
       "  </tbody>\n",
       "</table>\n",
       "</div>"
      ],
      "text/plain": [
       "                 Title                                             Review  \\\n",
       "0                 Good  Super   fast rack as usual quality & amazon di...   \n",
       "1    Very good product  The product is very good. Thanks to Amazon for...   \n",
       "2            Loved it.  Sooo cute...... Loved it.... Thanks AmazonPerf...   \n",
       "3  Elegqnt and classy.  Very elegant and beautiful watch. Looks quite ...   \n",
       "4           Good watch  I got the exact one what was in the image I ha...   \n",
       "\n",
       "            Emotion  \n",
       "0  [Sadness, Trust]  \n",
       "1    [Anticipation]  \n",
       "2             [Joy]  \n",
       "3             [Joy]  \n",
       "4           [Trust]  "
      ]
     },
     "execution_count": 10,
     "metadata": {},
     "output_type": "execute_result"
    }
   ],
   "source": [
    "watch_review.head()"
   ]
  }
 ],
 "metadata": {
  "kernelspec": {
   "display_name": "Python 3",
   "language": "python",
   "name": "python3"
  },
  "language_info": {
   "codemirror_mode": {
    "name": "ipython",
    "version": 3
   },
   "file_extension": ".py",
   "mimetype": "text/x-python",
   "name": "python",
   "nbconvert_exporter": "python",
   "pygments_lexer": "ipython3",
   "version": "3.8.5"
  }
 },
 "nbformat": 4,
 "nbformat_minor": 4
}
