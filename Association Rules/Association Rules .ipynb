{
 "cells": [
  {
   "cell_type": "markdown",
   "metadata": {},
   "source": [
    "# 1. book.csv"
   ]
  },
  {
   "cell_type": "code",
   "execution_count": 1,
   "metadata": {},
   "outputs": [],
   "source": [
    "#import Libraries\n",
    "import pandas as pd\n",
    "import matplotlib.pyplot as plt\n",
    "from mlxtend.frequent_patterns import apriori, association_rules"
   ]
  },
  {
   "cell_type": "code",
   "execution_count": 2,
   "metadata": {},
   "outputs": [
    {
     "data": {
      "text/html": [
       "<div>\n",
       "<style scoped>\n",
       "    .dataframe tbody tr th:only-of-type {\n",
       "        vertical-align: middle;\n",
       "    }\n",
       "\n",
       "    .dataframe tbody tr th {\n",
       "        vertical-align: top;\n",
       "    }\n",
       "\n",
       "    .dataframe thead th {\n",
       "        text-align: right;\n",
       "    }\n",
       "</style>\n",
       "<table border=\"1\" class=\"dataframe\">\n",
       "  <thead>\n",
       "    <tr style=\"text-align: right;\">\n",
       "      <th></th>\n",
       "      <th>ChildBks</th>\n",
       "      <th>YouthBks</th>\n",
       "      <th>CookBks</th>\n",
       "      <th>DoItYBks</th>\n",
       "      <th>RefBks</th>\n",
       "      <th>ArtBks</th>\n",
       "      <th>GeogBks</th>\n",
       "      <th>ItalCook</th>\n",
       "      <th>ItalAtlas</th>\n",
       "      <th>ItalArt</th>\n",
       "      <th>Florence</th>\n",
       "    </tr>\n",
       "  </thead>\n",
       "  <tbody>\n",
       "    <tr>\n",
       "      <th>0</th>\n",
       "      <td>0</td>\n",
       "      <td>1</td>\n",
       "      <td>0</td>\n",
       "      <td>1</td>\n",
       "      <td>0</td>\n",
       "      <td>0</td>\n",
       "      <td>1</td>\n",
       "      <td>0</td>\n",
       "      <td>0</td>\n",
       "      <td>0</td>\n",
       "      <td>0</td>\n",
       "    </tr>\n",
       "    <tr>\n",
       "      <th>1</th>\n",
       "      <td>1</td>\n",
       "      <td>0</td>\n",
       "      <td>0</td>\n",
       "      <td>0</td>\n",
       "      <td>0</td>\n",
       "      <td>0</td>\n",
       "      <td>0</td>\n",
       "      <td>0</td>\n",
       "      <td>0</td>\n",
       "      <td>0</td>\n",
       "      <td>0</td>\n",
       "    </tr>\n",
       "    <tr>\n",
       "      <th>2</th>\n",
       "      <td>0</td>\n",
       "      <td>0</td>\n",
       "      <td>0</td>\n",
       "      <td>0</td>\n",
       "      <td>0</td>\n",
       "      <td>0</td>\n",
       "      <td>0</td>\n",
       "      <td>0</td>\n",
       "      <td>0</td>\n",
       "      <td>0</td>\n",
       "      <td>0</td>\n",
       "    </tr>\n",
       "    <tr>\n",
       "      <th>3</th>\n",
       "      <td>1</td>\n",
       "      <td>1</td>\n",
       "      <td>1</td>\n",
       "      <td>0</td>\n",
       "      <td>1</td>\n",
       "      <td>0</td>\n",
       "      <td>1</td>\n",
       "      <td>0</td>\n",
       "      <td>0</td>\n",
       "      <td>0</td>\n",
       "      <td>0</td>\n",
       "    </tr>\n",
       "    <tr>\n",
       "      <th>4</th>\n",
       "      <td>0</td>\n",
       "      <td>0</td>\n",
       "      <td>1</td>\n",
       "      <td>0</td>\n",
       "      <td>0</td>\n",
       "      <td>0</td>\n",
       "      <td>1</td>\n",
       "      <td>0</td>\n",
       "      <td>0</td>\n",
       "      <td>0</td>\n",
       "      <td>0</td>\n",
       "    </tr>\n",
       "  </tbody>\n",
       "</table>\n",
       "</div>"
      ],
      "text/plain": [
       "   ChildBks  YouthBks  CookBks  DoItYBks  RefBks  ArtBks  GeogBks  ItalCook  \\\n",
       "0         0         1        0         1       0       0        1         0   \n",
       "1         1         0        0         0       0       0        0         0   \n",
       "2         0         0        0         0       0       0        0         0   \n",
       "3         1         1        1         0       1       0        1         0   \n",
       "4         0         0        1         0       0       0        1         0   \n",
       "\n",
       "   ItalAtlas  ItalArt  Florence  \n",
       "0          0        0         0  \n",
       "1          0        0         0  \n",
       "2          0        0         0  \n",
       "3          0        0         0  \n",
       "4          0        0         0  "
      ]
     },
     "execution_count": 2,
     "metadata": {},
     "output_type": "execute_result"
    }
   ],
   "source": [
    "#import dataset\n",
    "books_df = pd.read_csv(\"book.csv\")\n",
    "books_df.head()"
   ]
  },
  {
   "cell_type": "markdown",
   "metadata": {},
   "source": [
    "## 1.1. Algorithm with different support value and confidence value"
   ]
  },
  {
   "cell_type": "code",
   "execution_count": 3,
   "metadata": {},
   "outputs": [
    {
     "data": {
      "image/png": "[encoded data removed]",
      "text/plain": [
       "<Figure size 432x288 with 1 Axes>"
      ]
     },
     "metadata": {
      "needs_background": "light"
     },
     "output_type": "display_data"
    }
   ],
   "source": [
    "#Rules with support = [0.1,0.15,0.2,0.25] and confidence = 0.3\n",
    "support=[0.1,0.15,0.2,0.25]\n",
    "rules_1_count=[]\n",
    "\n",
    "for x in support:\n",
    "    frequent_sets_1 = apriori(books_df,min_support=x,use_colnames=True)\n",
    "    rules_1 = association_rules(frequent_sets_1, metric=\"confidence\", min_threshold=0.3)\n",
    "    rules_1_count.append(rules_1[\"antecedents\"].count())\n",
    "    \n",
    "#Plot for number of rules for different support values    \n",
    "plt.plot(support,rules_1_count,\"ro\",linestyle=\"dashed\")\n",
    "plt.title(\"Support vs Number of Rules\")\n",
    "plt.xlabel(\"Support\")\n",
    "plt.ylabel(\"Number of Rules\")\n",
    "plt.grid()\n",
    "plt.show()"
   ]
  },
  {
   "cell_type": "code",
   "execution_count": 4,
   "metadata": {},
   "outputs": [
    {
     "data": {
      "text/html": [
       "<div>\n",
       "<style scoped>\n",
       "    .dataframe tbody tr th:only-of-type {\n",
       "        vertical-align: middle;\n",
       "    }\n",
       "\n",
       "    .dataframe tbody tr th {\n",
       "        vertical-align: top;\n",
       "    }\n",
       "\n",
       "    .dataframe thead th {\n",
       "        text-align: right;\n",
       "    }\n",
       "</style>\n",
       "<table border=\"1\" class=\"dataframe\">\n",
       "  <thead>\n",
       "    <tr style=\"text-align: right;\">\n",
       "      <th></th>\n",
       "      <th>antecedents</th>\n",
       "      <th>consequents</th>\n",
       "      <th>antecedent support</th>\n",
       "      <th>consequent support</th>\n",
       "      <th>support</th>\n",
       "      <th>confidence</th>\n",
       "      <th>lift</th>\n",
       "      <th>leverage</th>\n",
       "      <th>conviction</th>\n",
       "    </tr>\n",
       "  </thead>\n",
       "  <tbody>\n",
       "    <tr>\n",
       "      <th>1</th>\n",
       "      <td>(ChildBks)</td>\n",
       "      <td>(CookBks)</td>\n",
       "      <td>0.423</td>\n",
       "      <td>0.431</td>\n",
       "      <td>0.256</td>\n",
       "      <td>0.605201</td>\n",
       "      <td>1.404179</td>\n",
       "      <td>0.073687</td>\n",
       "      <td>1.441240</td>\n",
       "    </tr>\n",
       "    <tr>\n",
       "      <th>0</th>\n",
       "      <td>(CookBks)</td>\n",
       "      <td>(ChildBks)</td>\n",
       "      <td>0.431</td>\n",
       "      <td>0.423</td>\n",
       "      <td>0.256</td>\n",
       "      <td>0.593968</td>\n",
       "      <td>1.404179</td>\n",
       "      <td>0.073687</td>\n",
       "      <td>1.421069</td>\n",
       "    </tr>\n",
       "  </tbody>\n",
       "</table>\n",
       "</div>"
      ],
      "text/plain": [
       "  antecedents consequents  antecedent support  consequent support  support  \\\n",
       "1  (ChildBks)   (CookBks)               0.423               0.431    0.256   \n",
       "0   (CookBks)  (ChildBks)               0.431               0.423    0.256   \n",
       "\n",
       "   confidence      lift  leverage  conviction  \n",
       "1    0.605201  1.404179  0.073687    1.441240  \n",
       "0    0.593968  1.404179  0.073687    1.421069  "
      ]
     },
     "execution_count": 4,
     "metadata": {},
     "output_type": "execute_result"
    }
   ],
   "source": [
    "#Rules with support = 0.2 and confidence = 0.5\n",
    "frequent_sets_2 = apriori(books_df,min_support=0.2,use_colnames=True)\n",
    "rules_2 = association_rules(frequent_sets_2, metric=\"confidence\", min_threshold=0.5)\n",
    "\n",
    "rules_2.sort_values(\"confidence\",ascending=False)"
   ]
  },
  {
   "cell_type": "code",
   "execution_count": 5,
   "metadata": {},
   "outputs": [
    {
     "data": {
      "image/png": "[encoded data removed]",
      "text/plain": [
       "<Figure size 432x288 with 2 Axes>"
      ]
     },
     "metadata": {
      "needs_background": "light"
     },
     "output_type": "display_data"
    }
   ],
   "source": [
    "#Support vs Confidence of rules when support >= 0.2 and confidence >= 0.5\n",
    "plt.scatter(rules_2[\"support\"],rules_2[\"confidence\"],alpha=0.5,s=100,c=rules_2[\"lift\"])\n",
    "cbar= plt.colorbar()\n",
    "cbar.set_label(\"Lift\")\n",
    "plt.xlabel(\"Support\")\n",
    "plt.ylabel(\"Confidence\")\n",
    "plt.title(\"Support VS Confidence\")\n",
    "plt.grid()\n",
    "plt.show()"
   ]
  },
  {
   "cell_type": "markdown",
   "metadata": {},
   "source": [
    "## 1.2.  Algorithm with different maximum length"
   ]
  },
  {
   "cell_type": "code",
   "execution_count": 6,
   "metadata": {},
   "outputs": [
    {
     "data": {
      "text/plain": [
       "antecedents           70\n",
       "consequents           70\n",
       "antecedent support    70\n",
       "consequent support    70\n",
       "support               70\n",
       "confidence            70\n",
       "lift                  70\n",
       "leverage              70\n",
       "conviction            70\n",
       "dtype: int64"
      ]
     },
     "execution_count": 6,
     "metadata": {},
     "output_type": "execute_result"
    }
   ],
   "source": [
    "#Rules with maximum length = 3\n",
    "frequent_sets_3 = apriori(books_df,min_support=0.1,use_colnames=True,max_len=3)\n",
    "rules_3 = association_rules(frequent_sets_3, metric=\"confidence\", min_threshold=0.4)\n",
    "#Number of rules\n",
    "rules_3.count()"
   ]
  },
  {
   "cell_type": "code",
   "execution_count": 7,
   "metadata": {},
   "outputs": [
    {
     "data": {
      "image/png": "[encoded data removed]",
      "text/plain": [
       "<Figure size 432x288 with 2 Axes>"
      ]
     },
     "metadata": {
      "needs_background": "light"
     },
     "output_type": "display_data"
    }
   ],
   "source": [
    "#Support vs Confidence of rules with maximum length = 3\n",
    "plt.scatter(rules_3[\"support\"],rules_3[\"confidence\"],s=rules_3[\"lift\"]*100,c=rules_3[\"lift\"])\n",
    "cbar= plt.colorbar()\n",
    "cbar.set_label(\"Lift\")\n",
    "plt.xlabel(\"Support\")\n",
    "plt.ylabel(\"Confidence\")\n",
    "plt.title(\"Support VS Confidence\")\n",
    "plt.grid()\n",
    "plt.show()"
   ]
  },
  {
   "cell_type": "code",
   "execution_count": 8,
   "metadata": {},
   "outputs": [
    {
     "data": {
      "text/plain": [
       "antecedents           32\n",
       "consequents           32\n",
       "antecedent support    32\n",
       "consequent support    32\n",
       "support               32\n",
       "confidence            32\n",
       "lift                  32\n",
       "leverage              32\n",
       "conviction            32\n",
       "dtype: int64"
      ]
     },
     "execution_count": 8,
     "metadata": {},
     "output_type": "execute_result"
    }
   ],
   "source": [
    "#Rules with maximum length = 2 \n",
    "frequent_sets_4 = apriori(books_df,min_support=0.1,use_colnames=True,max_len=2)\n",
    "rules_4 = association_rules(frequent_sets_4,metric=\"confidence\", min_threshold=0.4)\n",
    "rules_4.count()"
   ]
  },
  {
   "cell_type": "code",
   "execution_count": 9,
   "metadata": {},
   "outputs": [
    {
     "data": {
      "image/png": "[encoded data removed]",
      "text/plain": [
       "<Figure size 432x288 with 2 Axes>"
      ]
     },
     "metadata": {
      "needs_background": "light"
     },
     "output_type": "display_data"
    }
   ],
   "source": [
    "#Support VS Confidence of rules with maximum length = 2\n",
    "plt.scatter(rules_4[\"support\"],rules_4[\"confidence\"],s=rules_4[\"lift\"]*100, c=rules_4[\"lift\"]  )\n",
    "\n",
    "plt.colorbar(label=\"Lift\")\n",
    "plt.xlabel(\"Support\")\n",
    "plt.ylabel(\"Confidence\")\n",
    "plt.title(\"Support VS Confidence\")\n",
    "plt.grid()\n",
    "plt.show()"
   ]
  },
  {
   "cell_type": "markdown",
   "metadata": {},
   "source": [
    "# -------------------------------------------------------------------------------------------------------"
   ]
  },
  {
   "cell_type": "markdown",
   "metadata": {},
   "source": [
    "# 2. my_movies.csv"
   ]
  },
  {
   "cell_type": "code",
   "execution_count": 10,
   "metadata": {},
   "outputs": [],
   "source": [
    "#import libraries\n",
    "import pandas as pd\n",
    "from mlxtend.frequent_patterns import apriori, association_rules"
   ]
  },
  {
   "cell_type": "code",
   "execution_count": 11,
   "metadata": {},
   "outputs": [
    {
     "data": {
      "text/html": [
       "<div>\n",
       "<style scoped>\n",
       "    .dataframe tbody tr th:only-of-type {\n",
       "        vertical-align: middle;\n",
       "    }\n",
       "\n",
       "    .dataframe tbody tr th {\n",
       "        vertical-align: top;\n",
       "    }\n",
       "\n",
       "    .dataframe thead th {\n",
       "        text-align: right;\n",
       "    }\n",
       "</style>\n",
       "<table border=\"1\" class=\"dataframe\">\n",
       "  <thead>\n",
       "    <tr style=\"text-align: right;\">\n",
       "      <th></th>\n",
       "      <th>V1</th>\n",
       "      <th>V2</th>\n",
       "      <th>V3</th>\n",
       "      <th>V4</th>\n",
       "      <th>V5</th>\n",
       "      <th>Sixth Sense</th>\n",
       "      <th>Gladiator</th>\n",
       "      <th>LOTR1</th>\n",
       "      <th>Harry Potter1</th>\n",
       "      <th>Patriot</th>\n",
       "      <th>LOTR2</th>\n",
       "      <th>Harry Potter2</th>\n",
       "      <th>LOTR</th>\n",
       "      <th>Braveheart</th>\n",
       "      <th>Green Mile</th>\n",
       "    </tr>\n",
       "  </thead>\n",
       "  <tbody>\n",
       "    <tr>\n",
       "      <th>0</th>\n",
       "      <td>Sixth Sense</td>\n",
       "      <td>LOTR1</td>\n",
       "      <td>Harry Potter1</td>\n",
       "      <td>Green Mile</td>\n",
       "      <td>LOTR2</td>\n",
       "      <td>1</td>\n",
       "      <td>0</td>\n",
       "      <td>1</td>\n",
       "      <td>1</td>\n",
       "      <td>0</td>\n",
       "      <td>1</td>\n",
       "      <td>0</td>\n",
       "      <td>0</td>\n",
       "      <td>0</td>\n",
       "      <td>1</td>\n",
       "    </tr>\n",
       "    <tr>\n",
       "      <th>1</th>\n",
       "      <td>Gladiator</td>\n",
       "      <td>Patriot</td>\n",
       "      <td>Braveheart</td>\n",
       "      <td>NaN</td>\n",
       "      <td>NaN</td>\n",
       "      <td>0</td>\n",
       "      <td>1</td>\n",
       "      <td>0</td>\n",
       "      <td>0</td>\n",
       "      <td>1</td>\n",
       "      <td>0</td>\n",
       "      <td>0</td>\n",
       "      <td>0</td>\n",
       "      <td>1</td>\n",
       "      <td>0</td>\n",
       "    </tr>\n",
       "    <tr>\n",
       "      <th>2</th>\n",
       "      <td>LOTR1</td>\n",
       "      <td>LOTR2</td>\n",
       "      <td>NaN</td>\n",
       "      <td>NaN</td>\n",
       "      <td>NaN</td>\n",
       "      <td>0</td>\n",
       "      <td>0</td>\n",
       "      <td>1</td>\n",
       "      <td>0</td>\n",
       "      <td>0</td>\n",
       "      <td>1</td>\n",
       "      <td>0</td>\n",
       "      <td>0</td>\n",
       "      <td>0</td>\n",
       "      <td>0</td>\n",
       "    </tr>\n",
       "    <tr>\n",
       "      <th>3</th>\n",
       "      <td>Gladiator</td>\n",
       "      <td>Patriot</td>\n",
       "      <td>Sixth Sense</td>\n",
       "      <td>NaN</td>\n",
       "      <td>NaN</td>\n",
       "      <td>1</td>\n",
       "      <td>1</td>\n",
       "      <td>0</td>\n",
       "      <td>0</td>\n",
       "      <td>1</td>\n",
       "      <td>0</td>\n",
       "      <td>0</td>\n",
       "      <td>0</td>\n",
       "      <td>0</td>\n",
       "      <td>0</td>\n",
       "    </tr>\n",
       "    <tr>\n",
       "      <th>4</th>\n",
       "      <td>Gladiator</td>\n",
       "      <td>Patriot</td>\n",
       "      <td>Sixth Sense</td>\n",
       "      <td>NaN</td>\n",
       "      <td>NaN</td>\n",
       "      <td>1</td>\n",
       "      <td>1</td>\n",
       "      <td>0</td>\n",
       "      <td>0</td>\n",
       "      <td>1</td>\n",
       "      <td>0</td>\n",
       "      <td>0</td>\n",
       "      <td>0</td>\n",
       "      <td>0</td>\n",
       "      <td>0</td>\n",
       "    </tr>\n",
       "  </tbody>\n",
       "</table>\n",
       "</div>"
      ],
      "text/plain": [
       "            V1       V2             V3          V4     V5  Sixth Sense  \\\n",
       "0  Sixth Sense    LOTR1  Harry Potter1  Green Mile  LOTR2            1   \n",
       "1    Gladiator  Patriot     Braveheart         NaN    NaN            0   \n",
       "2        LOTR1    LOTR2            NaN         NaN    NaN            0   \n",
       "3    Gladiator  Patriot    Sixth Sense         NaN    NaN            1   \n",
       "4    Gladiator  Patriot    Sixth Sense         NaN    NaN            1   \n",
       "\n",
       "   Gladiator  LOTR1  Harry Potter1  Patriot  LOTR2  Harry Potter2  LOTR  \\\n",
       "0          0      1              1        0      1              0     0   \n",
       "1          1      0              0        1      0              0     0   \n",
       "2          0      1              0        0      1              0     0   \n",
       "3          1      0              0        1      0              0     0   \n",
       "4          1      0              0        1      0              0     0   \n",
       "\n",
       "   Braveheart  Green Mile  \n",
       "0           0           1  \n",
       "1           1           0  \n",
       "2           0           0  \n",
       "3           0           0  \n",
       "4           0           0  "
      ]
     },
     "execution_count": 11,
     "metadata": {},
     "output_type": "execute_result"
    }
   ],
   "source": [
    "#dataset : my_movies.csv\n",
    "movies_df = pd.read_csv(\"my_movies.csv\")\n",
    "movies_df.head()"
   ]
  },
  {
   "cell_type": "markdown",
   "metadata": {},
   "source": [
    "## 2.1. Algorithm with different support value and confidence value"
   ]
  },
  {
   "cell_type": "code",
   "execution_count": 12,
   "metadata": {},
   "outputs": [
    {
     "data": {
      "text/plain": [
       "antecedents           216\n",
       "consequents           216\n",
       "antecedent support    216\n",
       "consequent support    216\n",
       "support               216\n",
       "confidence            216\n",
       "lift                  216\n",
       "leverage              216\n",
       "conviction            216\n",
       "dtype: int64"
      ]
     },
     "execution_count": 12,
     "metadata": {},
     "output_type": "execute_result"
    }
   ],
   "source": [
    "#Rules with support = 0.1 and confidence = 0.4\n",
    "movies_dff = movies_df.iloc[:,5:]\n",
    "frequent_mset_1 = apriori(movies_dff,min_support=0.1,use_colnames=True)\n",
    "rules_m1 = association_rules(frequent_mset_1,metric=\"confidence\",min_threshold=0.4)\n",
    "rules_m1.count()"
   ]
  },
  {
   "cell_type": "code",
   "execution_count": 13,
   "metadata": {},
   "outputs": [
    {
     "data": {
      "image/png": "[encoded data removed]",
      "text/plain": [
       "<Figure size 432x288 with 2 Axes>"
      ]
     },
     "metadata": {
      "needs_background": "light"
     },
     "output_type": "display_data"
    }
   ],
   "source": [
    "#Support VS Confidence of rules with support > 0.1 and confidence > 0.4\n",
    "\n",
    "plt.scatter(rules_m1[\"support\"],rules_m1[\"confidence\"],s=rules_m1[\"lift\"]*100, c=rules_m1[\"lift\"])\n",
    "\n",
    "plt.colorbar(label=\"Lift\")\n",
    "plt.xlabel(\"Support\")\n",
    "plt.ylabel(\"Confidence\")\n",
    "plt.title(\"Support VS Confidence\")\n",
    "plt.grid()\n",
    "plt.show()"
   ]
  },
  {
   "cell_type": "code",
   "execution_count": 14,
   "metadata": {},
   "outputs": [
    {
     "data": {
      "text/plain": [
       "antecedents           15\n",
       "consequents           15\n",
       "antecedent support    15\n",
       "consequent support    15\n",
       "support               15\n",
       "confidence            15\n",
       "lift                  15\n",
       "leverage              15\n",
       "conviction            15\n",
       "dtype: int64"
      ]
     },
     "execution_count": 14,
     "metadata": {},
     "output_type": "execute_result"
    }
   ],
   "source": [
    "#Rules with support = 0.2 and confidence = 0.5\n",
    "frequent_mset_2 = apriori(movies_dff,min_support=0.2,use_colnames=True)\n",
    "rules_m2 = association_rules(frequent_mset_2,metric=\"confidence\",min_threshold=0.5)\n",
    "rules_m2.count()"
   ]
  },
  {
   "cell_type": "code",
   "execution_count": 15,
   "metadata": {},
   "outputs": [
    {
     "data": {
      "image/png": "[encoded data removed]",
      "text/plain": [
       "<Figure size 432x288 with 2 Axes>"
      ]
     },
     "metadata": {
      "needs_background": "light"
     },
     "output_type": "display_data"
    }
   ],
   "source": [
    "#Support VS Confidence of rules with support > 0.2 and confidence > 0.5\n",
    "plt.scatter(rules_m2[\"support\"],rules_m2[\"confidence\"],s=rules_m2[\"lift\"]*100, c=rules_m2[\"lift\"]  )\n",
    "\n",
    "plt.colorbar(label=\"Lift\")\n",
    "plt.xlabel(\"Support\")\n",
    "plt.ylabel(\"Confidence\")\n",
    "plt.title(\"Support VS Confidence\")\n",
    "plt.grid()\n",
    "plt.show()"
   ]
  },
  {
   "cell_type": "markdown",
   "metadata": {},
   "source": [
    "## 2.2.  Algorithm with different maximum length"
   ]
  },
  {
   "cell_type": "code",
   "execution_count": 16,
   "metadata": {},
   "outputs": [
    {
     "data": {
      "text/plain": [
       "antecedents           187\n",
       "consequents           187\n",
       "antecedent support    187\n",
       "consequent support    187\n",
       "support               187\n",
       "confidence            187\n",
       "lift                  187\n",
       "leverage              187\n",
       "conviction            187\n",
       "dtype: int64"
      ]
     },
     "execution_count": 16,
     "metadata": {},
     "output_type": "execute_result"
    }
   ],
   "source": [
    "#Rules with maximum length = 4\n",
    "frequent_mset_3 = apriori(movies_dff,min_support=0.1,use_colnames=True,max_len=4)\n",
    "rules_m3 = association_rules(frequent_mset_3,metric=\"confidence\",min_threshold=0.4)\n",
    "rules_m3.count()"
   ]
  },
  {
   "cell_type": "code",
   "execution_count": 17,
   "metadata": {},
   "outputs": [
    {
     "data": {
      "image/png": "[encoded data removed]",
      "text/plain": [
       "<Figure size 432x288 with 2 Axes>"
      ]
     },
     "metadata": {
      "needs_background": "light"
     },
     "output_type": "display_data"
    }
   ],
   "source": [
    "#Support VS Confidence of rules with maximum length = 4\n",
    "plt.scatter(rules_m3[\"support\"],rules_m3[\"confidence\"],s=rules_m3[\"lift\"]*100, c=rules_m3[\"lift\"]  )\n",
    "\n",
    "plt.colorbar(label=\"Lift\")\n",
    "plt.xlabel(\"Support\")\n",
    "plt.ylabel(\"Confidence\")\n",
    "plt.title(\"Support VS Confidence\")\n",
    "plt.grid()\n",
    "plt.show()"
   ]
  },
  {
   "cell_type": "code",
   "execution_count": 18,
   "metadata": {},
   "outputs": [
    {
     "data": {
      "text/plain": [
       "antecedents           31\n",
       "consequents           31\n",
       "antecedent support    31\n",
       "consequent support    31\n",
       "support               31\n",
       "confidence            31\n",
       "lift                  31\n",
       "leverage              31\n",
       "conviction            31\n",
       "dtype: int64"
      ]
     },
     "execution_count": 18,
     "metadata": {},
     "output_type": "execute_result"
    }
   ],
   "source": [
    "#Rules with maximum length = 2\n",
    "frequent_mset_4 = apriori(movies_dff,min_support=0.1,use_colnames=True,max_len=2)\n",
    "rules_m4 = association_rules(frequent_mset_4,metric=\"confidence\",min_threshold=0.5)\n",
    "rules_m4.count()"
   ]
  },
  {
   "cell_type": "code",
   "execution_count": 19,
   "metadata": {},
   "outputs": [
    {
     "data": {
      "image/png": "[encoded data removed]",
      "text/plain": [
       "<Figure size 432x288 with 2 Axes>"
      ]
     },
     "metadata": {
      "needs_background": "light"
     },
     "output_type": "display_data"
    }
   ],
   "source": [
    "#Support VS Confidence of rules with maximum length = 2\n",
    "plt.scatter(rules_m4[\"support\"],rules_m4[\"confidence\"],s=rules_m4[\"lift\"]*100, c=rules_m4[\"lift\"]  )\n",
    "\n",
    "plt.colorbar(label=\"Lift\")\n",
    "plt.xlabel(\"Support\")\n",
    "plt.ylabel(\"Confidence\")\n",
    "plt.title(\"Support VS Confidence\")\n",
    "plt.grid()\n",
    "plt.show()"
   ]
  }
 ],
 "metadata": {
  "kernelspec": {
   "display_name": "Python 3",
   "language": "python",
   "name": "python3"
  },
  "language_info": {
   "codemirror_mode": {
    "name": "ipython",
    "version": 3
   },
   "file_extension": ".py",
   "mimetype": "text/x-python",
   "name": "python",
   "nbconvert_exporter": "python",
   "pygments_lexer": "ipython3",
   "version": "3.8.5"
  }
 },
 "nbformat": 4,
 "nbformat_minor": 4
}
